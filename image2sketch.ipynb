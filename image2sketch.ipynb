{
  "nbformat": 4,
  "nbformat_minor": 0,
  "metadata": {
    "colab": {
      "provenance": [],
      "authorship_tag": "ABX9TyMguI096PC1+P0aXs5ZNQL+",
      "include_colab_link": true
    },
    "kernelspec": {
      "name": "python3",
      "display_name": "Python 3"
    },
    "language_info": {
      "name": "python"
    }
  },
  "cells": [
    {
      "cell_type": "markdown",
      "metadata": {
        "id": "view-in-github",
        "colab_type": "text"
      },
      "source": [
        "<a href=\"https://colab.research.google.com/github/haima2209/LGMdatascienceTask/blob/main/image2sketch.ipynb\" target=\"_parent\"><img src=\"https://colab.research.google.com/assets/colab-badge.svg\" alt=\"Open In Colab\"/></a>"
      ]
    },
    {
      "cell_type": "code",
      "execution_count": 4,
      "metadata": {
        "id": "vSAsuczI3NoP"
      },
      "outputs": [],
      "source": [
        "import numpy as np\n",
        "import imageio\n",
        "import scipy.ndimage\n",
        "import cv2\n",
        "\n"
      ]
    },
    {
      "cell_type": "code",
      "source": [
        "\n",
        "image='/content/dog.jpeg'"
      ],
      "metadata": {
        "id": "j2oa79aA31Xj"
      },
      "execution_count": 6,
      "outputs": []
    },
    {
      "cell_type": "code",
      "source": [
        "def rgb2gray(rgb):\n",
        "  return np.dot(rgb[...,:3],[0.2989, 0.5870, .1140])"
      ],
      "metadata": {
        "id": "-hiospQB5Ibk"
      },
      "execution_count": 10,
      "outputs": []
    },
    {
      "cell_type": "code",
      "source": [
        "def dodge(front,back):\n",
        "    final_sketch = front*255/(255-back)\n",
        "    final_sketch[final_sketch > 255] = 255\n",
        "    final_sketch[back == 255] = 255\n",
        "    return final_sketch.astype('uint8')"
      ],
      "metadata": {
        "id": "H7fdos9L5n9D"
      },
      "execution_count": 11,
      "outputs": []
    },
    {
      "cell_type": "code",
      "source": [
        "ss = imageio.imread(image)\n",
        "gray = rgb2gray(ss)\n",
        "\n",
        "i = 255-gray\n",
        ""
      ],
      "metadata": {
        "colab": {
          "base_uri": "https://localhost:8080/"
        },
        "id": "vwhU4Avj6R8a",
        "outputId": "13e39831-212c-4845-cdd0-3cdd920d7890"
      },
      "execution_count": 13,
      "outputs": [
        {
          "output_type": "stream",
          "name": "stderr",
          "text": [
            "<ipython-input-13-3d2b5df25ab2>:1: DeprecationWarning: Starting with ImageIO v3 the behavior of this function will switch to that of iio.v3.imread. To keep the current behavior (and make this warning disappear) use `import imageio.v2 as imageio` or call `imageio.v2.imread` directly.\n",
            "  ss = imageio.imread(image)\n"
          ]
        }
      ]
    },
    {
      "cell_type": "code",
      "source": [
        "blur = scipy.ndimage.filters.gaussian_filter(i, sigma=13)"
      ],
      "metadata": {
        "colab": {
          "base_uri": "https://localhost:8080/"
        },
        "id": "cN0RrSvh6kO8",
        "outputId": "61f58bb6-965b-46ad-d4dd-df4ece2b02e5"
      },
      "execution_count": 15,
      "outputs": [
        {
          "output_type": "stream",
          "name": "stderr",
          "text": [
            "<ipython-input-15-9db09ccf9a4a>:1: DeprecationWarning: Please use `gaussian_filter` from the `scipy.ndimage` namespace, the `scipy.ndimage.filters` namespace is deprecated.\n",
            "  blur = scipy.ndimage.filters.gaussian_filter(i, sigma=13)\n"
          ]
        }
      ]
    },
    {
      "cell_type": "code",
      "source": [
        "r=dodge(blur,gray)"
      ],
      "metadata": {
        "id": "c_U_mcwh6w2T"
      },
      "execution_count": 16,
      "outputs": []
    },
    {
      "cell_type": "code",
      "source": [
        "cv2.imwrite('/content/dog.jpeg',r)"
      ],
      "metadata": {
        "colab": {
          "base_uri": "https://localhost:8080/"
        },
        "id": "uIGeFDJo64oP",
        "outputId": "3573463c-2677-4a02-ed75-34fc65bdb675"
      },
      "execution_count": 20,
      "outputs": [
        {
          "output_type": "execute_result",
          "data": {
            "text/plain": [
              "True"
            ]
          },
          "metadata": {},
          "execution_count": 20
        }
      ]
    }
  ]
}